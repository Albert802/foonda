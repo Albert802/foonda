{
 "cells": [
  {
   "cell_type": "code",
   "execution_count": null,
   "id": "8c1b7f25",
   "metadata": {},
   "outputs": [],
   "source": [
    "#Details of the Endpoint\n",
    "#Run this code first (ctr + Enter)\n",
    "\n",
    "\n",
    "u={\"01-01-2022\":300 ,\n",
    "   \"02-01-2022\":500,\n",
    "   \"03-01-2022\":700,\n",
    "   \"04-01-2022\":1300,\n",
    "   \"05-01-2022\":2000,\n",
    "   \"06-01-2022\":3000,\n",
    "   \"07-01-2022\":3500,\n",
    "  \"08-01-2022\":4000,\n",
    "  \"09-01-2022\":4500,\n",
    "  \"10-01-2022\":5000,\n",
    "  \"11-01-2022\":20000,\n",
    "  \"12-01-2022\":35000,\n",
    "  \"13-01-2022\":46000,\n",
    "  \"14-01-2022\":70000,\n",
    "  \"15-01-2022\":90000,}\n",
    "  "
   ]
  },
  {
   "cell_type": "code",
   "execution_count": null,
   "id": "9860c558",
   "metadata": {},
   "outputs": [],
   "source": [
    "v = input(\"name your MySql Table :\")\n",
    "print(\"\")\n",
    "print(\"\")\n",
    "print(\"\")\n",
    "print(\"\")\n",
    "\n",
    "print( \"CREATE TABLE \"+str(v)+\" (Date DATE NOT_NULL , Number_of_active_users INT DEFAULT '0.00' NOT_NULL\"+\")\")\n",
    "print(\"INSERT INTO \"+str(v)+\" VALUES\")\n",
    "\n",
    "for i in u:\n",
    "    if i != '15-01-2022':\n",
    "        print ('('+str(i)+','+str(u[i])+')'+',' )\n",
    "    else:\n",
    "        print('('+str(i)+','+str(u[i])+');')\n",
    "\n",
    "    \n",
    "     \n",
    "    "
   ]
  }
 ],
 "metadata": {
  "kernelspec": {
   "display_name": "Python 3",
   "language": "python",
   "name": "python3"
  },
  "language_info": {
   "codemirror_mode": {
    "name": "ipython",
    "version": 3
   },
   "file_extension": ".py",
   "mimetype": "text/x-python",
   "name": "python",
   "nbconvert_exporter": "python",
   "pygments_lexer": "ipython3",
   "version": "3.8.8"
  }
 },
 "nbformat": 4,
 "nbformat_minor": 5
}
